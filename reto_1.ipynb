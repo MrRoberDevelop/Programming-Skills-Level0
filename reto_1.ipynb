{
  "nbformat": 4,
  "nbformat_minor": 0,
  "metadata": {
    "colab": {
      "provenance": [],
      "mount_file_id": "1nxqol_cPmC-Fnn8lMyOOgMoed4gL93q0",
      "authorship_tag": "ABX9TyNZ1+ME1cRMCdrjIdvQp8wt",
      "include_colab_link": true
    },
    "kernelspec": {
      "name": "python3",
      "display_name": "Python 3"
    },
    "language_info": {
      "name": "python"
    }
  },
  "cells": [
    {
      "cell_type": "markdown",
      "metadata": {
        "id": "view-in-github",
        "colab_type": "text"
      },
      "source": [
        "<a href=\"https://colab.research.google.com/github/MrRoberDevelop/Programming-Skills-Level0/blob/main/reto_1.ipynb\" target=\"_parent\"><img src=\"https://colab.research.google.com/assets/colab-badge.svg\" alt=\"Open In Colab\"/></a>"
      ]
    },
    {
      "cell_type": "markdown",
      "source": [
        "#minireto 1\n",
        "Users must be able to log in with a username and password."
      ],
      "metadata": {
        "id": "9l0ZE_JtPj93"
      }
    },
    {
      "cell_type": "code",
      "source": [
        "import json\n",
        "\n",
        "# construimos un objeto usuario\n",
        "class UserClass:\n",
        "  # cargamos el archivo donde se encuentran regitrados los usuarios\n",
        "  with open(\"/content/drive/MyDrive/Colab Notebooks/json/MOCK_DATA.json\",\"r\") as f:\n",
        "      self.data = json.load(f)\n",
        "\n",
        "  def __init__(self, username):\n",
        "    for u in self.data['users']:\n",
        "      if u['name'] == username:\n",
        "\n",
        ""
      ],
      "metadata": {
        "id": "WaEOk35kQU_q"
      },
      "execution_count": null,
      "outputs": []
    },
    {
      "cell_type": "code",
      "source": [
        "#funcion para importar datos de la \"BD\"\n",
        "import json\n",
        "with open(\"/content/drive/MyDrive/Colab Notebooks/json/MOCK_DATA.json\", 'r') as f:\n",
        "    data = json.load(f)\n",
        "\n",
        "def importData():\n",
        "  main_user = None\n",
        "  for u in data['users']:\n",
        "    if u['name'] == LoginUser:\n",
        "      main_user = u\n",
        "  return main_user\n",
        "\n",
        "def"
      ],
      "metadata": {
        "id": "Pu6B96wznKiT"
      },
      "execution_count": null,
      "outputs": []
    },
    {
      "cell_type": "code",
      "source": [
        "while True:\n",
        "  #Datos ingresados por el usuario\n",
        "  LoginUser = input(\"ingrese su usuario: \")\n",
        "  LoginPassword = input(\"ingrese su contraseña: \")\n",
        "\n",
        "  main_user = importData()\n",
        "\n",
        "  #Si el usuario existe se crea un objeto con sus parametros, de lo contrario se muesta error\n",
        "  if main_user is not None:\n",
        "    mainUser = UserClass(main_user[\"name\"],\n",
        "                         main_user['password'],\n",
        "                         main_user['available'],\n",
        "                         main_user['attempts'])\n",
        "  else:\n",
        "    print(\"El usuario no existe intente nuevamente\")\n",
        "    break\n",
        "\n",
        "  #Se valida su usuario y contraseña son validos\n",
        "  if mainUser.username == LoginUser and mainUser.password == LoginPassword:\n",
        "    print(\"welcome\")\n",
        "    break\n",
        "  else:\n",
        "    print(\"las credenciales no son correctas, tiene {} intentos\".format(mainUser.attempts))"
      ],
      "metadata": {
        "colab": {
          "base_uri": "https://localhost:8080/"
        },
        "id": "ool8ETdxaqZs",
        "outputId": "5cdfc46e-dd50-48b3-9ed6-37f1bd742d75"
      },
      "execution_count": null,
      "outputs": [
        {
          "output_type": "stream",
          "name": "stdout",
          "text": [
            "ingrese su usuario: dfilipputti0\n",
            "ingrese su contraseña: 1231\n",
            "las credenciales no son correctas, tiene 3 intentos\n",
            "ingrese su usuario: dfilipputti0\n",
            "ingrese su contraseña: mF1\\F74~qa@DOz!(m.Vynn\n",
            "welcome\n"
          ]
        }
      ]
    },
    {
      "cell_type": "markdown",
      "source": [
        "usuario: dfilipputti0\n",
        "\n",
        "contraseña: mF1\\F74~qa@DOz!(m.Vynn"
      ],
      "metadata": {
        "id": "rJuqKM4hoIG8"
      }
    },
    {
      "cell_type": "markdown",
      "source": [
        "#minireto 2\n",
        "If the user enters the wrong credentials three times, the system must lock them out."
      ],
      "metadata": {
        "id": "NVScHmtEms-t"
      }
    },
    {
      "cell_type": "code",
      "source": [
        "while True:\n",
        "  #Datos ingresados por el usuario\n",
        "  LoginUser = input(\"ingrese su usuario: \")\n",
        "  LoginPassword = input(\"ingrese su contraseña: \")\n",
        "\n",
        "  main_user = importData()\n",
        "\n",
        "  #Si el usuario existe se crea un objeto con sus parametros, de lo contrario se muesta error\n",
        "  if main_user is not None:\n",
        "    mainUser = UserClass(main_user[\"name\"],\n",
        "                         main_user['password'],\n",
        "                         main_user['available'],\n",
        "                         main_user['attempts'])\n",
        "  else:\n",
        "    print(\"El usuario no existe intente nuevamente\")\n",
        "    break\n",
        "\n",
        "  #Se valida su usuario y contraseña son validos\n",
        "  if mainUser.username == LoginUser and mainUser.password == LoginPassword:\n",
        "    print(\"welcome\")\n",
        "    break\n",
        "  else:\n",
        "    mainUser.attempts = mainUser.attempts - 1\n",
        "    print(\"las credenciales no son correctas, tiene {} intentos\".format(mainUser.attempts))"
      ],
      "metadata": {
        "colab": {
          "base_uri": "https://localhost:8080/"
        },
        "id": "NXn8nx5sm4wy",
        "outputId": "f5e34a4f-d37b-4d37-b7fa-2d301090ed78"
      },
      "execution_count": null,
      "outputs": [
        {
          "output_type": "stream",
          "name": "stdout",
          "text": [
            "ingrese su usuario: dfilipputti0\n",
            "ingrese su contraseña: 23123\n",
            "las credenciales no son correctas, tiene 2 intentos\n",
            "ingrese su usuario: dfilipputti0\n",
            "ingrese su contraseña: 23131\n",
            "las credenciales no son correctas, tiene 2 intentos\n",
            "ingrese su usuario: dfilipputti0\n",
            "ingrese su contraseña: mF1\\F74~qa@DOz!(m.Vynn\n",
            "welcome\n"
          ]
        }
      ]
    }
  ]
}