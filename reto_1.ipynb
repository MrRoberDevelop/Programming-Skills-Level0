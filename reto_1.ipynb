{
  "nbformat": 4,
  "nbformat_minor": 0,
  "metadata": {
    "colab": {
      "provenance": [],
      "mount_file_id": "1nxqol_cPmC-Fnn8lMyOOgMoed4gL93q0",
      "authorship_tag": "ABX9TyOhX2rtuB0Cmk3BEZI2VrPB",
      "include_colab_link": true
    },
    "kernelspec": {
      "name": "python3",
      "display_name": "Python 3"
    },
    "language_info": {
      "name": "python"
    }
  },
  "cells": [
    {
      "cell_type": "markdown",
      "metadata": {
        "id": "view-in-github",
        "colab_type": "text"
      },
      "source": [
        "<a href=\"https://colab.research.google.com/github/MrRoberDevelop/Programming-Skills-Level0/blob/main/reto_1.ipynb\" target=\"_parent\"><img src=\"https://colab.research.google.com/assets/colab-badge.svg\" alt=\"Open In Colab\"/></a>"
      ]
    },
    {
      "cell_type": "markdown",
      "source": [
        "#Main Code"
      ],
      "metadata": {
        "id": "eY87EsiDZnsw"
      }
    },
    {
      "cell_type": "code",
      "source": [
        "from typing import ValuesView\n",
        "from binascii import Error\n",
        "import json\n",
        "\n",
        "# construimos un objeto usuario\n",
        "class UserClass:\n",
        "    def __init__(self, username):\n",
        "      self.datasource = \"/content/drive/MyDrive/Colab Notebooks/json/MOCK_DATA.json\"\n",
        "\n",
        "      self.getUserData(username)\n",
        "      if self.user is not None:\n",
        "        self.username = self.user['name']\n",
        "        self.password = self.user['password']\n",
        "        self.money_available = self.user['available']\n",
        "        self.attempts = self.user['attempts']\n",
        "      else:\n",
        "        raise ValueError(\"User isn't available in databases\")\n",
        "\n",
        "    def readDataSource(self):\n",
        "      # cargamos el archivo donde se encuentran regitrados los usuarios\n",
        "      with open(self.datasource,\"r\") as f:\n",
        "        self.data = json.load(f)\n",
        "\n",
        "    def writeDataSource(self):\n",
        "      with open(self.datasource, \"w\", encoding=\"utf-8\") as f:\n",
        "        json.dump(self.data, f)\n",
        "\n",
        "    def getUserData(self, username):\n",
        "      self.readDataSource()\n",
        "      self.user = None\n",
        "      for u in self.data['users']:\n",
        "        if u['name'] == username:\n",
        "          self.user = u\n",
        "\n",
        "    def setUserData(self):\n",
        "      self.readDataSource()\n",
        "      for u in self.data['users']:\n",
        "        if u['name'] == self.username:\n",
        "          u['available'] = self.money_available\n",
        "          u['attempts'] = self.attempts\n",
        "      self.writeDataSource()\n",
        "\n",
        "    def validateCredetial(self, password):\n",
        "      if self.attempts > 0:\n",
        "        return password == self.password\n",
        "      else:\n",
        "        raise ValueError(\"The user is blocked\")\n",
        "\n",
        "    def lostAnAttempt(self):\n",
        "      if self.attempts > 0:\n",
        "        self.attempts = self.attempts - 1\n",
        "      print(\"Try again, you has {} attempts\".format(self.attempts))"
      ],
      "metadata": {
        "id": "WaEOk35kQU_q"
      },
      "execution_count": null,
      "outputs": []
    },
    {
      "cell_type": "markdown",
      "source": [
        "#Manual Test"
      ],
      "metadata": {
        "id": "M8zDwWEOZz3x"
      }
    },
    {
      "cell_type": "code",
      "source": [
        "if __name__ == \"__main__\":\n",
        "  NewUser = UserClass(\"dfilipputt\")\n"
      ],
      "metadata": {
        "colab": {
          "base_uri": "https://localhost:8080/"
        },
        "id": "GqRDVztNgE0Y",
        "outputId": "98d4e636-6b41-48c6-c80f-3c4f0eee5cc7"
      },
      "execution_count": null,
      "outputs": [
        {
          "output_type": "stream",
          "name": "stdout",
          "text": [
            "User isn't available in databases\n"
          ]
        }
      ]
    },
    {
      "cell_type": "markdown",
      "source": [
        "#minireto 1\n",
        "Users must be able to log in with a username and password."
      ],
      "metadata": {
        "id": "9l0ZE_JtPj93"
      }
    },
    {
      "cell_type": "code",
      "source": [
        "from logging import exception\n",
        "if __name__ == \"__main__\":\n",
        "  while True:\n",
        "    LoginUser = input(\"ingrese el usuario:      \")\n",
        "    LoginPassword = input(\"ingrese la contraseña:   \")\n",
        "\n",
        "    try:\n",
        "      MainUser = UserClass(LoginUser)\n",
        "    except Exception as e:\n",
        "      print(\"Error:\",str(e))\n",
        "\n",
        "    if MainUser.validateCredetial(LoginPassword):\n",
        "      print(\"successful login\")\n",
        "    else:\n",
        "      print(\"try again\")\n",
        "    break"
      ],
      "metadata": {
        "colab": {
          "base_uri": "https://localhost:8080/"
        },
        "id": "Qw0bTWXaaCCM",
        "outputId": "774a344f-729f-4cc5-b96c-12dacfa712da"
      },
      "execution_count": null,
      "outputs": [
        {
          "output_type": "stream",
          "name": "stdout",
          "text": [
            "ingrese el usuario:      dfilipputti0\n",
            "ingrese la contraseña:   mF1\\F74~qa@DOz!(m.Vynn\n",
            "successful login\n"
          ]
        }
      ]
    },
    {
      "cell_type": "markdown",
      "source": [
        "#minireto 2\n",
        "If the user enters the wrong credentials three times, the system must lock them out."
      ],
      "metadata": {
        "id": "NVScHmtEms-t"
      }
    },
    {
      "cell_type": "code",
      "source": [
        "from logging import exception\n",
        "if __name__ == \"__main__\":\n",
        "  while True:\n",
        "    LoginUser = input(\"ingrese el usuario:      \")\n",
        "    LoginPassword = input(\"ingrese la contraseña:   \")\n",
        "\n",
        "    try:\n",
        "      MainUser = UserClass(LoginUser)\n",
        "    except Exception as e:\n",
        "      print(\"Error:\",str(e))\n",
        "\n",
        "    if MainUser.validateCredetial(LoginPassword):\n",
        "      print(\"successful login\")\n",
        "    else:\n",
        "      MainUser.lostAnAttempt()\n",
        "      print(\"\")"
      ],
      "metadata": {
        "colab": {
          "base_uri": "https://localhost:8080/",
          "height": 529
        },
        "id": "jb134i8VpsXx",
        "outputId": "9edd0df2-4fc7-4e52-87d5-f8e5e0ac3880"
      },
      "execution_count": null,
      "outputs": [
        {
          "output_type": "stream",
          "name": "stdout",
          "text": [
            "ingrese el usuario:      dfilipputti0\n",
            "ingrese la contraseña:   123\n",
            "Try again, you has 2 attempts\n",
            "\n",
            "ingrese el usuario:      dfilipputti0\n",
            "ingrese la contraseña:   123\n",
            "Try again, you has 2 attempts\n",
            "\n"
          ]
        },
        {
          "output_type": "error",
          "ename": "KeyboardInterrupt",
          "evalue": "Interrupted by user",
          "traceback": [
            "\u001b[0;31m---------------------------------------------------------------------------\u001b[0m",
            "\u001b[0;31mKeyboardInterrupt\u001b[0m                         Traceback (most recent call last)",
            "\u001b[0;32m<ipython-input-18-fd7402d85f8b>\u001b[0m in \u001b[0;36m<cell line: 2>\u001b[0;34m()\u001b[0m\n\u001b[1;32m      2\u001b[0m \u001b[0;32mif\u001b[0m \u001b[0m__name__\u001b[0m \u001b[0;34m==\u001b[0m \u001b[0;34m\"__main__\"\u001b[0m\u001b[0;34m:\u001b[0m\u001b[0;34m\u001b[0m\u001b[0;34m\u001b[0m\u001b[0m\n\u001b[1;32m      3\u001b[0m   \u001b[0;32mwhile\u001b[0m \u001b[0;32mTrue\u001b[0m\u001b[0;34m:\u001b[0m\u001b[0;34m\u001b[0m\u001b[0;34m\u001b[0m\u001b[0m\n\u001b[0;32m----> 4\u001b[0;31m     \u001b[0mLoginUser\u001b[0m \u001b[0;34m=\u001b[0m \u001b[0minput\u001b[0m\u001b[0;34m(\u001b[0m\u001b[0;34m\"ingrese el usuario:      \"\u001b[0m\u001b[0;34m)\u001b[0m\u001b[0;34m\u001b[0m\u001b[0;34m\u001b[0m\u001b[0m\n\u001b[0m\u001b[1;32m      5\u001b[0m     \u001b[0mLoginPassword\u001b[0m \u001b[0;34m=\u001b[0m \u001b[0minput\u001b[0m\u001b[0;34m(\u001b[0m\u001b[0;34m\"ingrese la contraseña:   \"\u001b[0m\u001b[0;34m)\u001b[0m\u001b[0;34m\u001b[0m\u001b[0;34m\u001b[0m\u001b[0m\n\u001b[1;32m      6\u001b[0m \u001b[0;34m\u001b[0m\u001b[0m\n",
            "\u001b[0;32m/usr/local/lib/python3.10/dist-packages/ipykernel/kernelbase.py\u001b[0m in \u001b[0;36mraw_input\u001b[0;34m(self, prompt)\u001b[0m\n\u001b[1;32m    849\u001b[0m                 \u001b[0;34m\"raw_input was called, but this frontend does not support input requests.\"\u001b[0m\u001b[0;34m\u001b[0m\u001b[0;34m\u001b[0m\u001b[0m\n\u001b[1;32m    850\u001b[0m             )\n\u001b[0;32m--> 851\u001b[0;31m         return self._input_request(str(prompt),\n\u001b[0m\u001b[1;32m    852\u001b[0m             \u001b[0mself\u001b[0m\u001b[0;34m.\u001b[0m\u001b[0m_parent_ident\u001b[0m\u001b[0;34m,\u001b[0m\u001b[0;34m\u001b[0m\u001b[0;34m\u001b[0m\u001b[0m\n\u001b[1;32m    853\u001b[0m             \u001b[0mself\u001b[0m\u001b[0;34m.\u001b[0m\u001b[0m_parent_header\u001b[0m\u001b[0;34m,\u001b[0m\u001b[0;34m\u001b[0m\u001b[0;34m\u001b[0m\u001b[0m\n",
            "\u001b[0;32m/usr/local/lib/python3.10/dist-packages/ipykernel/kernelbase.py\u001b[0m in \u001b[0;36m_input_request\u001b[0;34m(self, prompt, ident, parent, password)\u001b[0m\n\u001b[1;32m    893\u001b[0m             \u001b[0;32mexcept\u001b[0m \u001b[0mKeyboardInterrupt\u001b[0m\u001b[0;34m:\u001b[0m\u001b[0;34m\u001b[0m\u001b[0;34m\u001b[0m\u001b[0m\n\u001b[1;32m    894\u001b[0m                 \u001b[0;31m# re-raise KeyboardInterrupt, to truncate traceback\u001b[0m\u001b[0;34m\u001b[0m\u001b[0;34m\u001b[0m\u001b[0m\n\u001b[0;32m--> 895\u001b[0;31m                 \u001b[0;32mraise\u001b[0m \u001b[0mKeyboardInterrupt\u001b[0m\u001b[0;34m(\u001b[0m\u001b[0;34m\"Interrupted by user\"\u001b[0m\u001b[0;34m)\u001b[0m \u001b[0;32mfrom\u001b[0m \u001b[0;32mNone\u001b[0m\u001b[0;34m\u001b[0m\u001b[0;34m\u001b[0m\u001b[0m\n\u001b[0m\u001b[1;32m    896\u001b[0m             \u001b[0;32mexcept\u001b[0m \u001b[0mException\u001b[0m \u001b[0;32mas\u001b[0m \u001b[0me\u001b[0m\u001b[0;34m:\u001b[0m\u001b[0;34m\u001b[0m\u001b[0;34m\u001b[0m\u001b[0m\n\u001b[1;32m    897\u001b[0m                 \u001b[0mself\u001b[0m\u001b[0;34m.\u001b[0m\u001b[0mlog\u001b[0m\u001b[0;34m.\u001b[0m\u001b[0mwarning\u001b[0m\u001b[0;34m(\u001b[0m\u001b[0;34m\"Invalid Message:\"\u001b[0m\u001b[0;34m,\u001b[0m \u001b[0mexc_info\u001b[0m\u001b[0;34m=\u001b[0m\u001b[0;32mTrue\u001b[0m\u001b[0;34m)\u001b[0m\u001b[0;34m\u001b[0m\u001b[0;34m\u001b[0m\u001b[0m\n",
            "\u001b[0;31mKeyboardInterrupt\u001b[0m: Interrupted by user"
          ]
        }
      ]
    }
  ]
}